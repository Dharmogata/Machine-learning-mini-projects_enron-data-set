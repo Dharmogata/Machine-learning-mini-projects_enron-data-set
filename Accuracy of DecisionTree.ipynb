{
 "cells": [
  {
   "cell_type": "code",
   "execution_count": 1,
   "metadata": {
    "collapsed": true
   },
   "outputs": [],
   "source": [
    "import random\n",
    "import matplotlib.pyplot as plt\n",
    "import copy\n",
    "import numpy as np\n",
    "import pylab as pl\n",
    "%matplotlib inline"
   ]
  },
  {
   "cell_type": "code",
   "execution_count": 2,
   "metadata": {
    "collapsed": true
   },
   "outputs": [],
   "source": [
    "def makeTerrainData(n_points=1000):\n",
    "###############################################################################\n",
    "### make the toy dataset\n",
    "    random.seed(42)\n",
    "    grade = [random.random() for ii in range(0,n_points)]\n",
    "    bumpy = [random.random() for ii in range(0,n_points)]\n",
    "    error = [random.random() for ii in range(0,n_points)]\n",
    "    y = [round(grade[ii]*bumpy[ii]+0.3+0.1*error[ii]) for ii in range(0,n_points)]\n",
    "    for ii in range(0, len(y)):\n",
    "        if grade[ii]>0.8 or bumpy[ii]>0.8:\n",
    "            y[ii] = 1.0\n",
    "\n",
    "### split into train/test sets\n",
    "    X = [[gg, ss] for gg, ss in zip(grade, bumpy)]\n",
    "    split = int(0.75*n_points)\n",
    "    X_train = X[0:split]\n",
    "    X_test  = X[split:]\n",
    "    y_train = y[0:split]\n",
    "    y_test  = y[split:]\n",
    "\n",
    "    grade_sig = [X_train[ii][0] for ii in range(0, len(X_train)) if y_train[ii]==0]\n",
    "    bumpy_sig = [X_train[ii][1] for ii in range(0, len(X_train)) if y_train[ii]==0]\n",
    "    grade_bkg = [X_train[ii][0] for ii in range(0, len(X_train)) if y_train[ii]==1]\n",
    "    bumpy_bkg = [X_train[ii][1] for ii in range(0, len(X_train)) if y_train[ii]==1]\n",
    "\n",
    "#    training_data = {\"fast\":{\"grade\":grade_sig, \"bumpiness\":bumpy_sig}\n",
    "#            , \"slow\":{\"grade\":grade_bkg, \"bumpiness\":bumpy_bkg}}\n",
    "\n",
    "\n",
    "    grade_sig = [X_test[ii][0] for ii in range(0, len(X_test)) if y_test[ii]==0]\n",
    "    bumpy_sig = [X_test[ii][1] for ii in range(0, len(X_test)) if y_test[ii]==0]\n",
    "    grade_bkg = [X_test[ii][0] for ii in range(0, len(X_test)) if y_test[ii]==1]\n",
    "    bumpy_bkg = [X_test[ii][1] for ii in range(0, len(X_test)) if y_test[ii]==1]\n",
    "\n",
    "    test_data = {\"fast\":{\"grade\":grade_sig, \"bumpiness\":bumpy_sig}\n",
    "            , \"slow\":{\"grade\":grade_bkg, \"bumpiness\":bumpy_bkg}}\n",
    "\n",
    "    return X_train, y_train, X_test, y_test\n",
    "#    return training_data, test_data"
   ]
  },
  {
   "cell_type": "code",
   "execution_count": 3,
   "metadata": {
    "collapsed": true
   },
   "outputs": [],
   "source": [
    "def prettyPicture(clf, X_test, y_test):\n",
    "    x_min = 0.0; x_max = 1.0\n",
    "    y_min = 0.0; y_max = 1.0\n",
    "\n",
    "    # Plot the decision boundary. For that, we will assign a color to each\n",
    "    # point in the mesh [x_min, m_max]x[y_min, y_max].\n",
    "    h = .01  # step size in the mesh\n",
    "    xx, yy = np.meshgrid(np.arange(x_min, x_max, h), np.arange(y_min, y_max, h))\n",
    "    Z = clf.predict(np.c_[xx.ravel(), yy.ravel()])\n",
    "\n",
    "    # Put the result into a color plot\n",
    "    Z = Z.reshape(xx.shape)\n",
    "    plt.xlim(xx.min(), xx.max())\n",
    "    plt.ylim(yy.min(), yy.max())\n",
    "\n",
    "    plt.pcolormesh(xx, yy, Z, cmap=pl.cm.seismic)\n",
    "\n",
    "    # Plot also the test points\n",
    "    grade_sig = [X_test[ii][0] for ii in range(0, len(X_test)) if y_test[ii]==0]\n",
    "    bumpy_sig = [X_test[ii][1] for ii in range(0, len(X_test)) if y_test[ii]==0]\n",
    "    grade_bkg = [X_test[ii][0] for ii in range(0, len(X_test)) if y_test[ii]==1]\n",
    "    bumpy_bkg = [X_test[ii][1] for ii in range(0, len(X_test)) if y_test[ii]==1]\n",
    "\n",
    "    plt.scatter(grade_sig, bumpy_sig, color = \"b\", label=\"fast\")\n",
    "    plt.scatter(grade_bkg, bumpy_bkg, color = \"r\", label=\"slow\")\n",
    "    plt.legend()\n",
    "    plt.xlabel(\"bumpiness\")\n",
    "    plt.ylabel(\"grade\")\n",
    "\n",
    "    plt.savefig(\"test.png\")"
   ]
  },
  {
   "cell_type": "code",
   "execution_count": 4,
   "metadata": {
    "collapsed": true
   },
   "outputs": [],
   "source": [
    "import base64\n",
    "import json\n",
    "import subprocess"
   ]
  },
  {
   "cell_type": "code",
   "execution_count": 5,
   "metadata": {
    "collapsed": true
   },
   "outputs": [],
   "source": [
    "def output_image(name, format, bytes):\n",
    "    image_start = \"BEGIN_IMAGE_f9825uweof8jw9fj4r8\"\n",
    "    image_end = \"END_IMAGE_0238jfw08fjsiufhw8frs\"\n",
    "    data = {}\n",
    "    data['name'] = name\n",
    "    data['format'] = format\n",
    "    data['bytes'] = base64.encodestring(bytes)\n",
    "    print image_start+json.dumps(data)+image_end"
   ]
  },
  {
   "cell_type": "code",
   "execution_count": 6,
   "metadata": {
    "collapsed": true
   },
   "outputs": [],
   "source": [
    "def classify(features_train, labels_train):\n",
    "    \n",
    "    ### your code goes here--should return a trained decision tree classifer\n",
    "    \n",
    "    from sklearn.tree import DecisionTreeClassifier\n",
    "    \n",
    "    clf = DecisionTreeClassifier()\n",
    "    clf.fit(features_train, labels_train)\n",
    "\n",
    "    return clf"
   ]
  },
  {
   "cell_type": "code",
   "execution_count": 7,
   "metadata": {
    "collapsed": false
   },
   "outputs": [
    {
     "name": "stdout",
     "output_type": "stream",
     "text": [
      "BEGIN_IMAGE_f9825uweof8jw9fj4r8{\"bytes\": \"iVBORw0KGgoAAAANSUhEUgAAAbAAAAEgCAYAAADVKCZpAAAABHNCSVQICAgIfAhkiAAAAAlwSFlz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\\n0NL/B7M3kHgtQANXAAAAAElFTkSuQmCC\\n\", \"name\": \"test.png\", \"format\": \"png\"}END_IMAGE_0238jfw08fjsiufhw8frs\n"
     ]
    },
    {
     "data": {
      "image/png": "[encoded data removed]",
      "text/plain": [
       "<matplotlib.figure.Figure at 0xa57a7b8>"
      ]
     },
     "metadata": {},
     "output_type": "display_data"
    }
   ],
   "source": [
    "features_train, labels_train, features_test, labels_test = makeTerrainData()\n",
    "\n",
    "### the training data (features_train, labels_train) have both \"fast\" and \"slow\" points mixed\n",
    "### in together--separate them so we can give them different colors in the scatterplot,\n",
    "### and visually identify them\n",
    "grade_fast = [features_train[ii][0] for ii in range(0, len(features_train)) if labels_train[ii]==0]\n",
    "bumpy_fast = [features_train[ii][1] for ii in range(0, len(features_train)) if labels_train[ii]==0]\n",
    "grade_slow = [features_train[ii][0] for ii in range(0, len(features_train)) if labels_train[ii]==1]\n",
    "bumpy_slow = [features_train[ii][1] for ii in range(0, len(features_train)) if labels_train[ii]==1]\n",
    "\n",
    "\n",
    "\n",
    "clf = classify(features_train, labels_train)\n",
    "\n",
    "\n",
    "\n",
    "    ### draw the decision boundary with the text points overlaid\n",
    "prettyPicture(clf, features_test, labels_test)\n",
    "output_image(\"test.png\", \"png\", open(\"test.png\", \"rb\").read())"
   ]
  },
  {
   "cell_type": "code",
   "execution_count": 23,
   "metadata": {
    "collapsed": true
   },
   "outputs": [],
   "source": [
    "def TreeAccuracy(features_train, labels_train, features_test, labels_test):\n",
    "    \"\"\" compute the accuracy of your Naive Bayes classifier \"\"\"\n",
    "    ### import the sklearn module for GaussianNB\n",
    "    \n",
    "\n",
    "    from sklearn.tree import DecisionTreeClassifier\n",
    "    clf = DecisionTreeClassifier()\n",
    "    clf.fit(features_train, labels_train)\n",
    "    pred = clf.predict(features_test)\n",
    "\n",
    "    from sklearn.metrics import accuracy_score\n",
    "    print accuracy_score(pred, labels_test)\n",
    "    accuracy = accuracy_score(pred, labels_test)\n",
    "    return accuracy"
   ]
  },
  {
   "cell_type": "code",
   "execution_count": 24,
   "metadata": {
    "collapsed": true
   },
   "outputs": [],
   "source": [
    "features_train, labels_train, features_test, labels_test = makeTerrainData()\n",
    "\n",
    "def submitAccuracy():\n",
    "    accuracy = TreeAccuracy(features_train, labels_train, features_test, labels_test)\n",
    "    return accuracy"
   ]
  },
  {
   "cell_type": "code",
   "execution_count": 25,
   "metadata": {
    "collapsed": false
   },
   "outputs": [
    {
     "name": "stdout",
     "output_type": "stream",
     "text": [
      "0.912\n"
     ]
    },
    {
     "data": {
      "text/plain": [
       "0.91200000000000003"
      ]
     },
     "execution_count": 25,
     "metadata": {},
     "output_type": "execute_result"
    }
   ],
   "source": [
    "submitAccuracy()"
   ]
  },
  {
   "cell_type": "code",
   "execution_count": 27,
   "metadata": {
    "collapsed": true
   },
   "outputs": [],
   "source": [
    "\n",
    "\n",
    "\n",
    "features_train, labels_train, features_test, labels_test = makeTerrainData()\n",
    "\n",
    "\n",
    "\n",
    "########################## DECISION TREE #################################\n",
    "\n",
    "\n",
    "### your code goes here--now create 2 decision tree classifiers,\n",
    "### one with min_samples_split=2 and one with min_samples_split=50\n",
    "### compute the accuracies on the testing data and store\n",
    "### the accuracy numbers to acc_min_samples_split_2 and\n",
    "### acc_min_samples_split_50, respectively\n",
    "\n",
    "clf_2 = DecisionTreeClassifier(min_samples_split=2)\n",
    "clf_2.fit(features_train,labels_train)\n",
    "pred_2 = clf_2.predict(features_test)\n",
    "acc_min_samples_split_2 = accuracy_score(labels_test, pred_2)\n",
    "\n",
    "\n",
    "clf_50 = DecisionTreeClassifier(min_samples_split=50)\n",
    "clf_50.fit(features_train,labels_train)\n",
    "pred_50 = clf_50.predict(features_test)\n",
    "acc_min_samples_split_50 = accuracy_score(labels_test, pred_50)\n",
    "\n",
    "\n",
    "def submitAccuracies():\n",
    "  return {\"acc_min_samples_split_2\":round(acc_min_samples_split_2,3),\n",
    "          \"acc_min_samples_split_50\":round(acc_min_samples_split_50,3)}"
   ]
  },
  {
   "cell_type": "code",
   "execution_count": 22,
   "metadata": {
    "collapsed": false
   },
   "outputs": [
    {
     "data": {
      "text/plain": [
       "{'acc_min_samples_split_2': 0.908, 'acc_min_samples_split_50': 0.912}"
      ]
     },
     "execution_count": 22,
     "metadata": {},
     "output_type": "execute_result"
    }
   ],
   "source": [
    "submitAccuracies()"
   ]
  },
  {
   "cell_type": "code",
   "execution_count": null,
   "metadata": {
    "collapsed": true
   },
   "outputs": [],
   "source": []
  }
 ],
 "metadata": {
  "kernelspec": {
   "display_name": "Python 2",
   "language": "python",
   "name": "python2"
  },
  "language_info": {
   "codemirror_mode": {
    "name": "ipython",
    "version": 2
   },
   "file_extension": ".py",
   "mimetype": "text/x-python",
   "name": "python",
   "nbconvert_exporter": "python",
   "pygments_lexer": "ipython2",
   "version": "2.7.11"
  }
 },
 "nbformat": 4,
 "nbformat_minor": 0
}
