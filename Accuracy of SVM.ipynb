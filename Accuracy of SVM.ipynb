{
 "cells": [
  {
   "cell_type": "code",
   "execution_count": 6,
   "metadata": {
    "collapsed": true
   },
   "outputs": [],
   "source": [
    "import random\n",
    "import matplotlib.pyplot as plt\n",
    "import copy\n",
    "import numpy as np\n",
    "import pylab as pl\n",
    "%matplotlib inline\n"
   ]
  },
  {
   "cell_type": "code",
   "execution_count": 3,
   "metadata": {
    "collapsed": true
   },
   "outputs": [],
   "source": [
    "def makeTerrainData(n_points=1000):\n",
    "###############################################################################\n",
    "### make the toy dataset\n",
    "    random.seed(42)\n",
    "    grade = [random.random() for ii in range(0,n_points)]\n",
    "    bumpy = [random.random() for ii in range(0,n_points)]\n",
    "    error = [random.random() for ii in range(0,n_points)]\n",
    "    y = [round(grade[ii]*bumpy[ii]+0.3+0.1*error[ii]) for ii in range(0,n_points)]\n",
    "    for ii in range(0, len(y)):\n",
    "        if grade[ii]>0.8 or bumpy[ii]>0.8:\n",
    "            y[ii] = 1.0\n",
    "\n",
    "### split into train/test sets\n",
    "    X = [[gg, ss] for gg, ss in zip(grade, bumpy)]\n",
    "    split = int(0.75*n_points)\n",
    "    X_train = X[0:split]\n",
    "    X_test  = X[split:]\n",
    "    y_train = y[0:split]\n",
    "    y_test  = y[split:]\n",
    "\n",
    "    grade_sig = [X_train[ii][0] for ii in range(0, len(X_train)) if y_train[ii]==0]\n",
    "    bumpy_sig = [X_train[ii][1] for ii in range(0, len(X_train)) if y_train[ii]==0]\n",
    "    grade_bkg = [X_train[ii][0] for ii in range(0, len(X_train)) if y_train[ii]==1]\n",
    "    bumpy_bkg = [X_train[ii][1] for ii in range(0, len(X_train)) if y_train[ii]==1]\n",
    "\n",
    "#    training_data = {\"fast\":{\"grade\":grade_sig, \"bumpiness\":bumpy_sig}\n",
    "#            , \"slow\":{\"grade\":grade_bkg, \"bumpiness\":bumpy_bkg}}\n",
    "\n",
    "\n",
    "    grade_sig = [X_test[ii][0] for ii in range(0, len(X_test)) if y_test[ii]==0]\n",
    "    bumpy_sig = [X_test[ii][1] for ii in range(0, len(X_test)) if y_test[ii]==0]\n",
    "    grade_bkg = [X_test[ii][0] for ii in range(0, len(X_test)) if y_test[ii]==1]\n",
    "    bumpy_bkg = [X_test[ii][1] for ii in range(0, len(X_test)) if y_test[ii]==1]\n",
    "\n",
    "    test_data = {\"fast\":{\"grade\":grade_sig, \"bumpiness\":bumpy_sig}\n",
    "            , \"slow\":{\"grade\":grade_bkg, \"bumpiness\":bumpy_bkg}}\n",
    "\n",
    "    return X_train, y_train, X_test, y_test\n",
    "#    return training_data, test_data"
   ]
  },
  {
   "cell_type": "code",
   "execution_count": 13,
   "metadata": {
    "collapsed": true
   },
   "outputs": [],
   "source": [
    "def prettyPicture(clf, X_test, y_test):\n",
    "    x_min = 0.0; x_max = 1.0\n",
    "    y_min = 0.0; y_max = 1.0\n",
    "\n",
    "    # Plot the decision boundary. For that, we will assign a color to each\n",
    "    # point in the mesh [x_min, m_max]x[y_min, y_max].\n",
    "    h = .01  # step size in the mesh\n",
    "    xx, yy = np.meshgrid(np.arange(x_min, x_max, h), np.arange(y_min, y_max, h))\n",
    "    Z = clf.predict(np.c_[xx.ravel(), yy.ravel()])\n",
    "\n",
    "    # Put the result into a color plot\n",
    "    Z = Z.reshape(xx.shape)\n",
    "    plt.xlim(xx.min(), xx.max())\n",
    "    plt.ylim(yy.min(), yy.max())\n",
    "\n",
    "    plt.pcolormesh(xx, yy, Z, cmap=pl.cm.seismic)\n",
    "\n",
    "    # Plot also the test points\n",
    "    grade_sig = [X_test[ii][0] for ii in range(0, len(X_test)) if y_test[ii]==0]\n",
    "    bumpy_sig = [X_test[ii][1] for ii in range(0, len(X_test)) if y_test[ii]==0]\n",
    "    grade_bkg = [X_test[ii][0] for ii in range(0, len(X_test)) if y_test[ii]==1]\n",
    "    bumpy_bkg = [X_test[ii][1] for ii in range(0, len(X_test)) if y_test[ii]==1]\n",
    "\n",
    "    plt.scatter(grade_sig, bumpy_sig, color = \"b\", label=\"fast\")\n",
    "    plt.scatter(grade_bkg, bumpy_bkg, color = \"r\", label=\"slow\")\n",
    "    plt.legend()\n",
    "    plt.xlabel(\"bumpiness\")\n",
    "    plt.ylabel(\"grade\")\n",
    "\n",
    "    plt.savefig(\"test.png\")"
   ]
  },
  {
   "cell_type": "code",
   "execution_count": 20,
   "metadata": {
    "collapsed": true
   },
   "outputs": [],
   "source": [
    "import base64\n",
    "import json\n",
    "import subprocess"
   ]
  },
  {
   "cell_type": "code",
   "execution_count": 14,
   "metadata": {
    "collapsed": true
   },
   "outputs": [],
   "source": [
    "def output_image(name, format, bytes):\n",
    "    image_start = \"BEGIN_IMAGE_f9825uweof8jw9fj4r8\"\n",
    "    image_end = \"END_IMAGE_0238jfw08fjsiufhw8frs\"\n",
    "    data = {}\n",
    "    data['name'] = name\n",
    "    data['format'] = format\n",
    "    data['bytes'] = base64.encodestring(bytes)\n",
    "    print image_start+json.dumps(data)+image_end"
   ]
  },
  {
   "cell_type": "code",
   "execution_count": 18,
   "metadata": {
    "collapsed": true
   },
   "outputs": [],
   "source": [
    "def classify(features_train, labels_train):   \n",
    "    ### import the sklearn module for GaussianNB\n",
    "    ### create classifier\n",
    "    ### fit the classifier on the training features and labels\n",
    "    ### return the fit classifier\n",
    "    \n",
    "    from sklearn.svm import SVC\n",
    "    clf = SVC(kernel=\"linear\")\n",
    "    clf.fit(features_train, labels_train)\n",
    "    pred = clf.predict( features_test)\n",
    "    return clf        "
   ]
  },
  {
   "cell_type": "code",
   "execution_count": 21,
   "metadata": {
    "collapsed": false
   },
   "outputs": [
    {
     "name": "stdout",
     "output_type": "stream",
     "text": [
      "BEGIN_IMAGE_f9825uweof8jw9fj4r8{\"bytes\": \"iVBORw0KGgoAAAANSUhEUgAAAbAAAAEgCAYAAADVKCZpAAAABHNCSVQICAgIfAhkiAAAAAlwSFlz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\\nAdfwIt5T6YlyAAAAAElFTkSuQmCC\\n\", \"name\": \"test.png\", \"format\": \"png\"}END_IMAGE_0238jfw08fjsiufhw8frs\n"
     ]
    },
    {
     "data": {
      "image/png": "[encoded data removed]",
      "text/plain": [
       "<matplotlib.figure.Figure at 0x1638d828>"
      ]
     },
     "metadata": {},
     "output_type": "display_data"
    }
   ],
   "source": [
    "features_train, labels_train, features_test, labels_test = makeTerrainData()\n",
    "\n",
    "### the training data (features_train, labels_train) have both \"fast\" and \"slow\" points mixed\n",
    "### in together--separate them so we can give them different colors in the scatterplot,\n",
    "### and visually identify them\n",
    "grade_fast = [features_train[ii][0] for ii in range(0, len(features_train)) if labels_train[ii]==0]\n",
    "bumpy_fast = [features_train[ii][1] for ii in range(0, len(features_train)) if labels_train[ii]==0]\n",
    "grade_slow = [features_train[ii][0] for ii in range(0, len(features_train)) if labels_train[ii]==1]\n",
    "bumpy_slow = [features_train[ii][1] for ii in range(0, len(features_train)) if labels_train[ii]==1]\n",
    "\n",
    "\n",
    "\n",
    "clf = classify(features_train, labels_train)\n",
    "\n",
    "\n",
    "\n",
    "    ### draw the decision boundary with the text points overlaid\n",
    "prettyPicture(clf, features_test, labels_test)\n",
    "output_image(\"test.png\", \"png\", open(\"test.png\", \"rb\").read())"
   ]
  },
  {
   "cell_type": "code",
   "execution_count": 15,
   "metadata": {
    "collapsed": false
   },
   "outputs": [],
   "source": [
    "features_train, labels_train, features_test, labels_test = makeTerrainData()\n"
   ]
  },
  {
   "cell_type": "code",
   "execution_count": 16,
   "metadata": {
    "collapsed": false
   },
   "outputs": [],
   "source": [
    "from sklearn.svm import SVC\n",
    "clf = SVC(kernel=\"linear\")\n",
    "clf.fit(features_train, labels_train)\n",
    "pred = clf.predict( features_test)"
   ]
  },
  {
   "cell_type": "code",
   "execution_count": 17,
   "metadata": {
    "collapsed": true
   },
   "outputs": [],
   "source": [
    "from sklearn.metrics import accuracy_score\n",
    "acc = accuracy_score(pred, labels_test)"
   ]
  },
  {
   "cell_type": "code",
   "execution_count": 11,
   "metadata": {
    "collapsed": false
   },
   "outputs": [
    {
     "data": {
      "text/plain": [
       "0.92000000000000004"
      ]
     },
     "execution_count": 11,
     "metadata": {},
     "output_type": "execute_result"
    }
   ],
   "source": [
    "acc"
   ]
  },
  {
   "cell_type": "code",
   "execution_count": null,
   "metadata": {
    "collapsed": true
   },
   "outputs": [],
   "source": []
  }
 ],
 "metadata": {
  "kernelspec": {
   "display_name": "Python 2",
   "language": "python",
   "name": "python2"
  },
  "language_info": {
   "codemirror_mode": {
    "name": "ipython",
    "version": 2
   },
   "file_extension": ".py",
   "mimetype": "text/x-python",
   "name": "python",
   "nbconvert_exporter": "python",
   "pygments_lexer": "ipython2",
   "version": "2.7.10"
  }
 },
 "nbformat": 4,
 "nbformat_minor": 0
}
