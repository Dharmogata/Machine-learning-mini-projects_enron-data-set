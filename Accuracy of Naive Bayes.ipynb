{
 "cells": [
  {
   "cell_type": "code",
   "execution_count": 17,
   "metadata": {
    "collapsed": false
   },
   "outputs": [],
   "source": [
    "\n",
    "import os\n",
    "os.chdir(\"C:\\Users\\suh0902\\Desktop\\CP\\dataset\")\n",
    "import random\n"
   ]
  },
  {
   "cell_type": "code",
   "execution_count": 37,
   "metadata": {
    "collapsed": true
   },
   "outputs": [],
   "source": [
    "def makeTerrainData(n_points=1000):\n",
    "###############################################################################\n",
    "### make the toy dataset\n",
    "    random.seed(42)\n",
    "    grade = [random.random() for ii in range(0,n_points)]\n",
    "    bumpy = [random.random() for ii in range(0,n_points)]\n",
    "    error = [random.random() for ii in range(0,n_points)]\n",
    "    y = [round(grade[ii]*bumpy[ii]+0.3+0.1*error[ii]) for ii in range(0,n_points)]\n",
    "    for ii in range(0, len(y)):\n",
    "        if grade[ii]>0.8 or bumpy[ii]>0.8:\n",
    "            y[ii] = 1.0\n",
    "\n",
    "### split into train/test sets\n",
    "    X = [[gg, ss] for gg, ss in zip(grade, bumpy)]\n",
    "    split = int(0.75*n_points)\n",
    "    X_train = X[0:split]\n",
    "    X_test  = X[split:]\n",
    "    y_train = y[0:split]\n",
    "    y_test  = y[split:]\n",
    "\n",
    "    grade_sig = [X_train[ii][0] for ii in range(0, len(X_train)) if y_train[ii]==0]\n",
    "    bumpy_sig = [X_train[ii][1] for ii in range(0, len(X_train)) if y_train[ii]==0]\n",
    "    grade_bkg = [X_train[ii][0] for ii in range(0, len(X_train)) if y_train[ii]==1]\n",
    "    bumpy_bkg = [X_train[ii][1] for ii in range(0, len(X_train)) if y_train[ii]==1]\n",
    "\n",
    "#    training_data = {\"fast\":{\"grade\":grade_sig, \"bumpiness\":bumpy_sig}\n",
    "#            , \"slow\":{\"grade\":grade_bkg, \"bumpiness\":bumpy_bkg}}\n",
    "\n",
    "\n",
    "    grade_sig = [X_test[ii][0] for ii in range(0, len(X_test)) if y_test[ii]==0]\n",
    "    bumpy_sig = [X_test[ii][1] for ii in range(0, len(X_test)) if y_test[ii]==0]\n",
    "    grade_bkg = [X_test[ii][0] for ii in range(0, len(X_test)) if y_test[ii]==1]\n",
    "    bumpy_bkg = [X_test[ii][1] for ii in range(0, len(X_test)) if y_test[ii]==1]\n",
    "\n",
    "    test_data = {\"fast\":{\"grade\":grade_sig, \"bumpiness\":bumpy_sig}\n",
    "            , \"slow\":{\"grade\":grade_bkg, \"bumpiness\":bumpy_bkg}}\n",
    "\n",
    "    return X_train, y_train, X_test, y_test\n",
    "#    return training_data, test_data"
   ]
  },
  {
   "cell_type": "code",
   "execution_count": 22,
   "metadata": {
    "collapsed": true
   },
   "outputs": [],
   "source": [
    "import matplotlib \n",
    "matplotlib.use('agg')\n",
    "\n",
    "import matplotlib.pyplot as plt\n",
    "import pylab as pl\n",
    "import numpy as np\n",
    "%matplotlib inline"
   ]
  },
  {
   "cell_type": "code",
   "execution_count": 11,
   "metadata": {
    "collapsed": true
   },
   "outputs": [],
   "source": [
    "def prettyPicture(clf, X_test, y_test):\n",
    "    x_min = 0.0; x_max = 1.0\n",
    "    y_min = 0.0; y_max = 1.0\n",
    "\n",
    "    # Plot the decision boundary. For that, we will assign a color to each\n",
    "    # point in the mesh [x_min, m_max]x[y_min, y_max].\n",
    "    h = .01  # step size in the mesh\n",
    "    xx, yy = np.meshgrid(np.arange(x_min, x_max, h), np.arange(y_min, y_max, h))\n",
    "    Z = clf.predict(np.c_[xx.ravel(), yy.ravel()])\n",
    "\n",
    "    # Put the result into a color plot\n",
    "    Z = Z.reshape(xx.shape)\n",
    "    plt.xlim(xx.min(), xx.max())\n",
    "    plt.ylim(yy.min(), yy.max())\n",
    "\n",
    "    plt.pcolormesh(xx, yy, Z, cmap=pl.cm.seismic)\n",
    "\n",
    "    # Plot also the test points\n",
    "    grade_sig = [X_test[ii][0] for ii in range(0, len(X_test)) if y_test[ii]==0]\n",
    "    bumpy_sig = [X_test[ii][1] for ii in range(0, len(X_test)) if y_test[ii]==0]\n",
    "    grade_bkg = [X_test[ii][0] for ii in range(0, len(X_test)) if y_test[ii]==1]\n",
    "    bumpy_bkg = [X_test[ii][1] for ii in range(0, len(X_test)) if y_test[ii]==1]\n",
    "\n",
    "    plt.scatter(grade_sig, bumpy_sig, color = \"b\", label=\"fast\")\n",
    "    plt.scatter(grade_bkg, bumpy_bkg, color = \"r\", label=\"slow\")\n",
    "    plt.legend()\n",
    "    plt.xlabel(\"bumpiness\")\n",
    "    plt.ylabel(\"grade\")\n",
    "\n",
    "    plt.savefig(\"test.png\")\n",
    "    "
   ]
  },
  {
   "cell_type": "code",
   "execution_count": 12,
   "metadata": {
    "collapsed": true
   },
   "outputs": [],
   "source": [
    "import base64\n",
    "import json\n",
    "import subprocess"
   ]
  },
  {
   "cell_type": "code",
   "execution_count": 13,
   "metadata": {
    "collapsed": true
   },
   "outputs": [],
   "source": [
    "def output_image(name, format, bytes):\n",
    "    image_start = \"BEGIN_IMAGE_f9825uweof8jw9fj4r8\"\n",
    "    image_end = \"END_IMAGE_0238jfw08fjsiufhw8frs\"\n",
    "    data = {}\n",
    "    data['name'] = name\n",
    "    data['format'] = format\n",
    "    data['bytes'] = base64.encodestring(bytes)\n",
    "    print image_start+json.dumps(data)+image_end"
   ]
  },
  {
   "cell_type": "code",
   "execution_count": 26,
   "metadata": {
    "collapsed": true
   },
   "outputs": [],
   "source": [
    "def classify(features_train, labels_train):   \n",
    "    ### import the sklearn module for GaussianNB\n",
    "    ### create classifier\n",
    "    ### fit the classifier on the training features and labels\n",
    "    ### return the fit classifier\n",
    "    \n",
    "    from sklearn.naive_bayes import GaussianNB\n",
    "    clf = GaussianNB()\n",
    "    clf.fit(features_train, labels_train)\n",
    "    pred = clf.predict(features_test)\n",
    "    return clf        "
   ]
  },
  {
   "cell_type": "code",
   "execution_count": 15,
   "metadata": {
    "collapsed": true
   },
   "outputs": [],
   "source": [
    "import numpy as np\n",
    "import pylab as pl"
   ]
  },
  {
   "cell_type": "code",
   "execution_count": 23,
   "metadata": {
    "collapsed": false
   },
   "outputs": [
    {
     "name": "stdout",
     "output_type": "stream",
     "text": [
      "BEGIN_IMAGE_f9825uweof8jw9fj4r8{\"bytes\": \"iVBORw0KGgoAAAANSUhEUgAAAbAAAAEgCAYAAADVKCZpAAAABHNCSVQICAgIfAhkiAAAAAlwSFlz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\\nzBZJmgQcfwAAAABJRU5ErkJggg==\\n\", \"name\": \"test.png\", \"format\": \"png\"}END_IMAGE_0238jfw08fjsiufhw8frs\n"
     ]
    },
    {
     "data": {
      "image/png": "[encoded data removed]",
      "text/plain": [
       "<matplotlib.figure.Figure at 0x1551c8d0>"
      ]
     },
     "metadata": {},
     "output_type": "display_data"
    }
   ],
   "source": [
    "features_train, labels_train, features_test, labels_test = makeTerrainData()\n",
    "\n",
    "### the training data (features_train, labels_train) have both \"fast\" and \"slow\" points mixed\n",
    "### in together--separate them so we can give them different colors in the scatterplot,\n",
    "### and visually identify them\n",
    "grade_fast = [features_train[ii][0] for ii in range(0, len(features_train)) if labels_train[ii]==0]\n",
    "bumpy_fast = [features_train[ii][1] for ii in range(0, len(features_train)) if labels_train[ii]==0]\n",
    "grade_slow = [features_train[ii][0] for ii in range(0, len(features_train)) if labels_train[ii]==1]\n",
    "bumpy_slow = [features_train[ii][1] for ii in range(0, len(features_train)) if labels_train[ii]==1]\n",
    "\n",
    "\n",
    "\n",
    "clf = classify(features_train, labels_train)\n",
    "\n",
    "\n",
    "\n",
    "    ### draw the decision boundary with the text points overlaid\n",
    "prettyPicture(clf, features_test, labels_test)\n",
    "output_image(\"test.png\", \"png\", open(\"test.png\", \"rb\").read())"
   ]
  },
  {
   "cell_type": "code",
   "execution_count": 42,
   "metadata": {
    "collapsed": true
   },
   "outputs": [],
   "source": [
    "def NBAccuracy(features_train, labels_train, features_test, labels_test):\n",
    "    \"\"\" compute the accuracy of your Naive Bayes classifier \"\"\"\n",
    "    ### import the sklearn module for GaussianNB\n",
    "    \n",
    "\n",
    "    from sklearn.naive_bayes import GaussianNB\n",
    "    clf = GaussianNB()\n",
    "    clf.fit(features_train, labels_train)\n",
    "    pred = clf.predict(features_test)\n",
    "\n",
    "    from sklearn.metrics import accuracy_score\n",
    "    print accuracy_score(pred, labels_test)\n",
    "    accuracy = accuracy_score(pred, labels_test)\n",
    "    return accuracy"
   ]
  },
  {
   "cell_type": "code",
   "execution_count": 43,
   "metadata": {
    "collapsed": false
   },
   "outputs": [],
   "source": [
    "features_train, labels_train, features_test, labels_test = makeTerrainData()\n",
    "\n",
    "def submitAccuracy():\n",
    "    accuracy = NBAccuracy(features_train, labels_train, features_test, labels_test)\n",
    "    return accuracy"
   ]
  },
  {
   "cell_type": "code",
   "execution_count": 45,
   "metadata": {
    "collapsed": false
   },
   "outputs": [
    {
     "name": "stdout",
     "output_type": "stream",
     "text": [
      "0.884\n"
     ]
    },
    {
     "data": {
      "text/plain": [
       "0.88400000000000001"
      ]
     },
     "execution_count": 45,
     "metadata": {},
     "output_type": "execute_result"
    }
   ],
   "source": [
    "submitAccuracy()"
   ]
  },
  {
   "cell_type": "code",
   "execution_count": null,
   "metadata": {
    "collapsed": true
   },
   "outputs": [],
   "source": []
  }
 ],
 "metadata": {
  "kernelspec": {
   "display_name": "Python 2",
   "language": "python",
   "name": "python2"
  },
  "language_info": {
   "codemirror_mode": {
    "name": "ipython",
    "version": 2
   },
   "file_extension": ".py",
   "mimetype": "text/x-python",
   "name": "python",
   "nbconvert_exporter": "python",
   "pygments_lexer": "ipython2",
   "version": "2.7.10"
  }
 },
 "nbformat": 4,
 "nbformat_minor": 0
}
